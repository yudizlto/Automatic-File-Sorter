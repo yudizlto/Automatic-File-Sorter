{
 "cells": [
  {
   "cell_type": "markdown",
   "id": "1b80b91c-781f-4759-b28d-ce1ae573f4d9",
   "metadata": {},
   "source": [
    "# Automatic File Sorter in File Explorer"
   ]
  },
  {
   "cell_type": "code",
   "execution_count": 2,
   "id": "06c1a1a3-576b-4990-ac07-7cc63150f83f",
   "metadata": {},
   "outputs": [],
   "source": [
    "# Import the os module for accessing operation system function\n",
    "# And the shutil module for high-level file operations\n",
    "import os, shutil"
   ]
  },
  {
   "cell_type": "code",
   "execution_count": 10,
   "id": "d2fb41df-5c6a-44d4-90ff-4ab403aec060",
   "metadata": {},
   "outputs": [],
   "source": [
    "# Store the path of the directory where the files to be sorted are located\n",
    "path = r\"C:/Users/zulya/Desktop/Z L T O/Phyton Tutorial/\""
   ]
  },
  {
   "cell_type": "code",
   "execution_count": 16,
   "id": "9c40a307-6511-4108-9c50-b3b1d52f40d9",
   "metadata": {},
   "outputs": [],
   "source": [
    "# Get a list of file names in the specified directory and store them in the variable file_names\n",
    "file_name = os.listdir(path)"
   ]
  },
  {
   "cell_type": "code",
   "execution_count": 24,
   "id": "28c1641b-2d3d-4d4a-83d6-648e78440ca0",
   "metadata": {},
   "outputs": [],
   "source": [
    "# Create a list of folders that will be used to categorize files based on their types\n",
    "folder_names = [\"Docs\", \"Videos\", \"Images\"]\n",
    "\n",
    "# Loop to create folders if they dont already exist\n",
    "for loop in range(0,3):\n",
    "    # Check if the folder already exists in the directory\n",
    "    if not os.path.exists(path + folder_names[loop]): \n",
    "        # Create a new folder\n",
    "        os.makedirs(path + folder_names[loop])\n",
    "\n",
    "# Loop to move files to the appropriate folders\n",
    "# Check if the files is a \".docx\" or \".jpg\" or \".mp4\" and doesnt already exist in that folder\n",
    "# Move the file to the appropriate folders\n",
    "for file in file_name:\n",
    "    if \".docx\" in file and not os.path.exists(path + \"Docs/\" + file):\n",
    "        shutil.move(path + file, path + \"Docs/\" + file)\n",
    "    elif \".jpg\" in file and not os.path.exists(path + \"Images/\" + file):\n",
    "        shutil.move(path + file, path + \"Images/\" + file)\n",
    "    elif \".mp4\" in file and not os.path.exists(path + \"Videos/\" + file):\n",
    "        shutil.move(path + file, path + \"Videos/\" + file)"
   ]
  },
  {
   "cell_type": "code",
   "execution_count": null,
   "id": "f4df8036-f5a6-455d-8634-01cda66ae320",
   "metadata": {},
   "outputs": [],
   "source": []
  }
 ],
 "metadata": {
  "kernelspec": {
   "display_name": "Python 3 (ipykernel)",
   "language": "python",
   "name": "python3"
  },
  "language_info": {
   "codemirror_mode": {
    "name": "ipython",
    "version": 3
   },
   "file_extension": ".py",
   "mimetype": "text/x-python",
   "name": "python",
   "nbconvert_exporter": "python",
   "pygments_lexer": "ipython3",
   "version": "3.12.4"
  }
 },
 "nbformat": 4,
 "nbformat_minor": 5
}
